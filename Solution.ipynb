{
  "nbformat": 4,
  "nbformat_minor": 0,
  "metadata": {
    "colab": {
      "provenance": [],
      "authorship_tag": "ABX9TyOodE4asTma2pUxl922Yf30",
      "include_colab_link": true
    },
    "kernelspec": {
      "name": "python3",
      "display_name": "Python 3"
    },
    "language_info": {
      "name": "python"
    }
  },
  "cells": [
    {
      "cell_type": "markdown",
      "metadata": {
        "id": "view-in-github",
        "colab_type": "text"
      },
      "source": [
        "<a href=\"https://colab.research.google.com/github/mpily/basic-ml-course/blob/master/Solution.ipynb\" target=\"_parent\"><img src=\"https://colab.research.google.com/assets/colab-badge.svg\" alt=\"Open In Colab\"/></a>"
      ]
    },
    {
      "cell_type": "code",
      "execution_count": 4,
      "metadata": {
        "id": "c_rO8hpiHfcM"
      },
      "outputs": [],
      "source": [
        "def is_triangle(a, b, c):\n",
        "  edge_length = [a,b,c]\n",
        "  edge_length.sort()\n",
        "  if edge_length[2] >= edge_length[0] + edge_length[1] :\n",
        "    return False\n",
        "  else :\n",
        "    return True"
      ]
    },
    {
      "cell_type": "code",
      "source": [
        "print(is_triangle(1, 2, 3))  # Expected output: False\n",
        "print(is_triangle(2, 2, 3))  # Expected output: True\n"
      ],
      "metadata": {
        "colab": {
          "base_uri": "https://localhost:8080/"
        },
        "id": "nVWojvQnIZ-s",
        "outputId": "26e63389-7a11-4292-9156-71930a23a8f6"
      },
      "execution_count": 5,
      "outputs": [
        {
          "output_type": "stream",
          "name": "stdout",
          "text": [
            "False\n",
            "True\n"
          ]
        }
      ]
    },
    {
      "cell_type": "code",
      "source": [
        "for number in range(11):\n",
        "  if number % 2 == 1:\n",
        "    print(number)"
      ],
      "metadata": {
        "colab": {
          "base_uri": "https://localhost:8080/"
        },
        "id": "5MGk2n3jIvsZ",
        "outputId": "ef887c64-694d-4661-c84e-bdec67678c37"
      },
      "execution_count": 6,
      "outputs": [
        {
          "output_type": "stream",
          "name": "stdout",
          "text": [
            "1\n",
            "3\n",
            "5\n",
            "7\n",
            "9\n"
          ]
        }
      ]
    },
    {
      "cell_type": "code",
      "source": [
        "def get_reverse(text):\n",
        "  reverse_text = \"\"\n",
        "  for i in range(len(text) - 1,-1,-1):\n",
        "    reverse_text += text[i]\n",
        "  return reverse_text"
      ],
      "metadata": {
        "id": "RrPHJ2kiJDb8"
      },
      "execution_count": 9,
      "outputs": []
    },
    {
      "cell_type": "code",
      "source": [
        "print(get_reverse(\"Kenya\"))\n",
        "print(get_reverse(\"sun-asterisk-research\"))\n"
      ],
      "metadata": {
        "colab": {
          "base_uri": "https://localhost:8080/"
        },
        "id": "O5eABObRJx7l",
        "outputId": "ecb1ad10-b361-4175-930a-54eeec4549f9"
      },
      "execution_count": 10,
      "outputs": [
        {
          "output_type": "stream",
          "name": "stdout",
          "text": [
            "ayneK\n",
            "hcraeser-ksiretsa-nus\n"
          ]
        }
      ]
    },
    {
      "cell_type": "code",
      "source": [
        "set1 = {10, 20, 30, 40, 50}\n",
        "set2 = {30, 40, 50, 60, 70}\n",
        "\n",
        "def either_not_both(a , b):\n",
        "  result  = a | b\n",
        "  in_both = a & b\n",
        "  result  = result - in_both\n",
        "  return result\n"
      ],
      "metadata": {
        "id": "qE2MNgtKKKVg"
      },
      "execution_count": 11,
      "outputs": []
    },
    {
      "cell_type": "code",
      "source": [
        "print(either_not_both(set1, set2))"
      ],
      "metadata": {
        "colab": {
          "base_uri": "https://localhost:8080/"
        },
        "id": "vyBX24R5KhrF",
        "outputId": "5bffc2f2-a01f-48d7-ab64-d77f045c8b48"
      },
      "execution_count": 12,
      "outputs": [
        {
          "output_type": "stream",
          "name": "stdout",
          "text": [
            "{10, 20, 70, 60}\n"
          ]
        }
      ]
    },
    {
      "cell_type": "code",
      "source": [
        "def remove_from_list(input_list, value):\n",
        "  while value in input_list:\n",
        "    input_list.remove(value)\n",
        "\n",
        "a = [10, 20, 10, 30, 40, 50, 10, 0]\n",
        "remove_from_list(a, 10)\n",
        "print(a)  # Expected output: [20, 30, 40, 50, 0]"
      ],
      "metadata": {
        "colab": {
          "base_uri": "https://localhost:8080/"
        },
        "id": "IHz6RGWtKxVx",
        "outputId": "6fc0f3d8-e7c8-4b0b-a454-2c5e33dbdf45"
      },
      "execution_count": 14,
      "outputs": [
        {
          "output_type": "stream",
          "name": "stdout",
          "text": [
            "[20, 30, 40, 50, 0]\n"
          ]
        }
      ]
    },
    {
      "cell_type": "code",
      "source": [
        "class Student:\n",
        "    def __init__(self, name, score):\n",
        "        self.name  = name\n",
        "        self.score = score\n",
        "\n",
        "    def get_score(self):\n",
        "        return self.score\n",
        "    \n",
        "    def describe(self):\n",
        "        print(self.name,\":\",self.score)\n",
        "\n",
        "student = Student(\"John\", 85)\n",
        "print(student.get_score())  # Expected output: 85\n",
        "student.describe()  # Expected output: \"John: 85\""
      ],
      "metadata": {
        "colab": {
          "base_uri": "https://localhost:8080/"
        },
        "id": "mQEN1ba1LUlO",
        "outputId": "9d8f3523-7d3b-4a6a-8585-734989833d18"
      },
      "execution_count": 15,
      "outputs": [
        {
          "output_type": "stream",
          "name": "stdout",
          "text": [
            "85\n",
            "John : 85\n"
          ]
        }
      ]
    },
    {
      "cell_type": "code",
      "source": [
        "class Person:\n",
        "    def __init__(self, name):\n",
        "        self.name = name\n",
        "\n",
        "    def speak(self):\n",
        "        return \"Person \" + self.name + \" spoke something.\"\n",
        "\n",
        "class Employee(Person):\n",
        "    def __init__(self, name):\n",
        "        Person.__init__(self,name)\n",
        "\n",
        "    def speak(self, word):\n",
        "        return \"Employee \" + self.name  + \" spoke \" + word\n",
        "\n",
        "employee = Employee(\"David\")\n",
        "print(employee.speak(\"hello\"))  # Expected output: \"Employee David spoke hello\""
      ],
      "metadata": {
        "colab": {
          "base_uri": "https://localhost:8080/"
        },
        "id": "9ew1kLsRL34V",
        "outputId": "74398bf2-ed17-471c-a2b8-662474fec0d9"
      },
      "execution_count": 18,
      "outputs": [
        {
          "output_type": "stream",
          "name": "stdout",
          "text": [
            "Employee David spoke hello\n"
          ]
        }
      ]
    },
    {
      "cell_type": "code",
      "source": [
        "country_capital = {\n",
        "    \"japan\": \"tokyo\",\n",
        "    \"vietnam\": \"hanoi\",\n",
        "    \"france\": \"paris\"\n",
        "}\n",
        "\n",
        "for country in country_capital.keys():\n",
        "  print(country  + \" - \" + country_capital[country])\n",
        "\n",
        "\n"
      ],
      "metadata": {
        "colab": {
          "base_uri": "https://localhost:8080/"
        },
        "id": "DN3Do1FpNr4t",
        "outputId": "62bacd42-4d43-448d-a026-d0aaeaae6c64"
      },
      "execution_count": 22,
      "outputs": [
        {
          "output_type": "stream",
          "name": "stdout",
          "text": [
            "japan - tokyo\n",
            "vietnam - hanoi\n",
            "france - paris\n"
          ]
        }
      ]
    },
    {
      "cell_type": "code",
      "source": [
        "from math import sqrt\n",
        "def solve_equation(a, b, c):\n",
        "    if b * b - 4 * a * c < 0 : \n",
        "      print(\"No solution\")\n",
        "    elif b * b == 4 * a * c : \n",
        "      print(\"The equation has 1 solution \" + str(-b/(2 * a)))\n",
        "    else :\n",
        "      print(\"The equation has 2 solutions \"  + str((-b + sqrt(b * b - 4 * a * c))/(2 * a)) + \" \" + str((-b - sqrt(b * b - 4 * a * c))/(2 * a)))\n",
        "\n",
        "solve_equation(1, -2, 1)\n",
        "solve_equation(1,-5,-6)\n"
      ],
      "metadata": {
        "colab": {
          "base_uri": "https://localhost:8080/"
        },
        "id": "Uo3GbKoCOWpy",
        "outputId": "8512933d-e7ca-49b7-cedb-15b5056d6823"
      },
      "execution_count": 28,
      "outputs": [
        {
          "output_type": "stream",
          "name": "stdout",
          "text": [
            "The equation has 1 solution 1.0\n",
            "The equation has 2 solutions 6.0 -1.0\n"
          ]
        }
      ]
    }
  ]
}