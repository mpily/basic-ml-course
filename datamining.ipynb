{
  "nbformat": 4,
  "nbformat_minor": 0,
  "metadata": {
    "colab": {
      "provenance": [],
      "authorship_tag": "ABX9TyO8R0/h9MnO6ELlm3t4wlE9",
      "include_colab_link": true
    },
    "kernelspec": {
      "name": "python3",
      "display_name": "Python 3"
    },
    "language_info": {
      "name": "python"
    }
  },
  "cells": [
    {
      "cell_type": "markdown",
      "metadata": {
        "id": "view-in-github",
        "colab_type": "text"
      },
      "source": [
        "<a href=\"https://colab.research.google.com/github/mpily/basic-ml-course/blob/Project/datamining.ipynb\" target=\"_parent\"><img src=\"https://colab.research.google.com/assets/colab-badge.svg\" alt=\"Open In Colab\"/></a>"
      ]
    },
    {
      "cell_type": "code",
      "execution_count": 19,
      "metadata": {
        "id": "_BEus_0VHTnV"
      },
      "outputs": [],
      "source": [
        "#Example from previous project you could use it to learn how to do the mining\n",
        "# basic imports\n",
        "import json\n",
        "import urllib.request\n",
        "\n",
        "################################ Data mining from the FPL API ################################\n",
        "# The only 2 parameters to specify are \"teamID\" and \"lastGameweek\"\n",
        "teamID = 3637734\n",
        "lastGameweek = 10\n",
        "\n",
        "# Get the detailed info about a given FPL Manager’s Team and a given game week\n",
        "gameweekData = {}\n",
        "for i in range(1, lastGameweek + 1):\n",
        "    base = \"https://fantasy.premierleague.com/api/entry/\" + str(teamID) + \"/event/\" + str(i) + \"/picks/\"\n",
        "    page = urllib.request.urlopen(base)\n",
        "    data = {\"GW\" + str(i) : json.load(page)}\n",
        "    gameweekData.update(data)\n",
        "\n",
        "# Get the general info about a given FPL Manager’s Team\n",
        "base = \"https://fantasy.premierleague.com/api/entry/\" + str(teamID) + \"/\"\n",
        "page = urllib.request.urlopen(base)\n",
        "dataTeamInfo = json.load(page)\n",
        "\n",
        "# Get the generic info about PL teams, the players and the game week details\n",
        "base = \"https://fantasy.premierleague.com/api/bootstrap-static/\" \n",
        "page = urllib.request.urlopen(base)\n",
        "dataGeneral = json.load(page)\n",
        "events = dataGeneral[\"events\"]\n",
        "elements = dataGeneral[\"elements\"]\n",
        "teams   = dataGeneral[\"teams\"]"
      ]
    },
    {
      "cell_type": "code",
      "source": [
        "# Get the detailed info about a specific premier league player   \n",
        "def getPlayerPointsAtOneGW(playerID, gameweek):\n",
        "    base = \"https://fantasy.premierleague.com/api/element-summary/\" + str(playerID) + \"/\"\n",
        "    page = urllib.request.urlopen(base)\n",
        "    datagw = json.load(page)\n",
        "    gwPoints = 0\n",
        "    for i in range(len(datagw[\"history\"])): \n",
        "        if gameweek == datagw[\"history\"][i][\"round\"]: # to account for absent gameweek in the json\n",
        "            gwPoints = gwPoints + datagw[\"history\"][i][\"total_points\"] # to account for double gw            \n",
        "    return gwPoints\n",
        "\n",
        "def getPlayerName(playerID):\n",
        "    i = 0\n",
        "    while i < len(elements):\n",
        "        if (elements[i][\"id\"] == playerID):\n",
        "            return (elements[i][\"first_name\"] + \" \" + elements[i][\"second_name\"])\n",
        "        i += 1\n",
        "    return \"ID not found\"\n",
        "\n",
        "positions = [\"GK\", \"DEF\", \"MID\", \"ST\"]\n",
        "def getPlayerPosition(playerID):\n",
        "    i = 0\n",
        "    while i < len(elements):\n",
        "        if (elements[i][\"id\"] == playerID):\n",
        "                playersElementType = elements[i][\"element_type\"]\n",
        "                playerPosition = positions[playersElementType - 1]\n",
        "                return playerPosition\n",
        "        i += 1\n",
        "    return \"ID not found\"\n",
        "print(elements[0].keys())"
      ],
      "metadata": {
        "id": "X0oiElb1H0AH",
        "colab": {
          "base_uri": "https://localhost:8080/"
        },
        "outputId": "e4ffd215-c1a7-487a-f0ca-cc1b5e2ac0fb"
      },
      "execution_count": 9,
      "outputs": [
        {
          "output_type": "stream",
          "name": "stdout",
          "text": [
            "dict_keys(['chance_of_playing_next_round', 'chance_of_playing_this_round', 'code', 'cost_change_event', 'cost_change_event_fall', 'cost_change_start', 'cost_change_start_fall', 'dreamteam_count', 'element_type', 'ep_next', 'ep_this', 'event_points', 'first_name', 'form', 'id', 'in_dreamteam', 'news', 'news_added', 'now_cost', 'photo', 'points_per_game', 'second_name', 'selected_by_percent', 'special', 'squad_number', 'status', 'team', 'team_code', 'total_points', 'transfers_in', 'transfers_in_event', 'transfers_out', 'transfers_out_event', 'value_form', 'value_season', 'web_name', 'minutes', 'goals_scored', 'assists', 'clean_sheets', 'goals_conceded', 'own_goals', 'penalties_saved', 'penalties_missed', 'yellow_cards', 'red_cards', 'saves', 'bonus', 'bps', 'influence', 'creativity', 'threat', 'ict_index', 'starts', 'expected_goals', 'expected_assists', 'expected_goal_involvements', 'expected_goals_conceded', 'influence_rank', 'influence_rank_type', 'creativity_rank', 'creativity_rank_type', 'threat_rank', 'threat_rank_type', 'ict_index_rank', 'ict_index_rank_type', 'corners_and_indirect_freekicks_order', 'corners_and_indirect_freekicks_text', 'direct_freekicks_order', 'direct_freekicks_text', 'penalties_order', 'penalties_text', 'expected_goals_per_90', 'saves_per_90', 'expected_assists_per_90', 'expected_goal_involvements_per_90', 'expected_goals_conceded_per_90', 'goals_conceded_per_90', 'now_cost_rank', 'now_cost_rank_type', 'form_rank', 'form_rank_type', 'points_per_game_rank', 'points_per_game_rank_type', 'selected_rank', 'selected_rank_type', 'starts_per_90', 'clean_sheets_per_90'])\n"
          ]
        }
      ]
    },
    {
      "cell_type": "code",
      "source": [
        "################################ Calculations ################################\n",
        "# Get the specific team data from the json in organised lists and dictionaries\n",
        "teamName = dataTeamInfo[\"name\"]\n",
        "points = []\n",
        "gameweekRank = []\n",
        "overallRank = []\n",
        "teamValue = []\n",
        "transfers = []\n",
        "transfersCost = []\n",
        "averagePoints = []\n",
        "highestPoints = []\n",
        "captain = []\n",
        "captainPoints = []\n",
        "startingTeam = {}\n",
        "totalPointsPerLine = {}\n",
        "totalPointsPerLineSeason = {\"GK\" : 0, \"DEF\" : 0, \"MID\" : 0, \"ST\" : 0}\n",
        "\n",
        "for gw in range(1, lastGameweek + 1):\n",
        "    # List with basic data each gw\n",
        "\n",
        "    points.append(gameweekData[\"GW\" + str(gw)][\"entry_history\"][\"points\"])\n",
        "    gameweekRank.append(gameweekData[\"GW\" + str(gw)][\"entry_history\"][\"rank\"])\n",
        "    overallRank.append(gameweekData[\"GW\" + str(gw)][\"entry_history\"][\"overall_rank\"])\n",
        "    teamValue.append(gameweekData[\"GW\" + str(gw)][\"entry_history\"][\"value\"])\n",
        "    transfers.append(gameweekData[\"GW\" + str(gw)][\"entry_history\"][\"event_transfers\"])\n",
        "    transfersCost.append(gameweekData[\"GW\" + str(gw)][\"entry_history\"][\"event_transfers_cost\"])\n",
        "    averagePoints.append(events[gw-1][\"average_entry_score\"])\n",
        "    highestPoints.append(events[gw-1][\"highest_score\"])\n",
        "    \n",
        "    # Dict with starting team each gw\n",
        "    startingTeam[\"GW\" + str(gw)] = {}\n",
        "    for j in range(0, 15):\n",
        "        if gameweekData[\"GW\" + str(gw)][\"picks\"][j][\"is_captain\"] == True:\n",
        "            captain.append(getPlayerName(gameweekData[\"GW\" + str(gw)][\"picks\"][j][\"element\"]))\n",
        "            captainPoints.append(getPlayerPointsAtOneGW(gameweekData[\"GW\" + str(gw)][\"picks\"][j][\"element\"], gw))\n",
        "    for n in range(0, 15):\n",
        "        startingTeam[\"GW\" + str(gw)][\"player\" + str(n)] = {}\n",
        "        startingTeam[\"GW\" + str(gw)][\"player\" + str(n)][\"name\"] = getPlayerName(gameweekData[\"GW\" + str(gw)][\"picks\"][n][\"element\"])\n",
        "        startingTeam[\"GW\" + str(gw)][\"player\" + str(n)][\"position\"] = getPlayerPosition(gameweekData[\"GW\" + str(gw)][\"picks\"][n][\"element\"])\n",
        "        startingTeam[\"GW\" + str(gw)][\"player\" + str(n)][\"points\"] = getPlayerPointsAtOneGW(gameweekData[\"GW\" + str(gw)][\"picks\"][n][\"element\"], gw)\n",
        "\n",
        "    # Dict with points per line each gw\n",
        "    totalPointsPerLine[\"GW\" + str(gw)] = {\"GK\" : 0, \"DEF\" : 0, \"MID\" : 0, \"ST\" : 0}\n",
        "    for player in range(0, 11): # que les titulaires de 0 à 11 donc\n",
        "        if startingTeam[\"GW\" + str(gw)][\"player\" + str(player)][\"position\"] == \"GK\":\n",
        "            totalPointsPerLine[\"GW\" + str(gw)][\"GK\"] = totalPointsPerLine[\"GW\" + str(gw)][\"GK\"] + startingTeam[\"GW\" + str(gw)][\"player\" + str(player)][\"points\"]\n",
        "        elif startingTeam[\"GW\" + str(gw)][\"player\" + str(player)][\"position\"] == \"DEF\":\n",
        "            totalPointsPerLine[\"GW\" + str(gw)][\"DEF\"] = totalPointsPerLine[\"GW\" + str(gw)][\"DEF\"] + startingTeam[\"GW\" + str(gw)][\"player\" + str(player)][\"points\"]\n",
        "        elif startingTeam[\"GW\" + str(gw)][\"player\" + str(player)][\"position\"] == \"MID\":\n",
        "            totalPointsPerLine[\"GW\" + str(gw)][\"MID\"] = totalPointsPerLine[\"GW\" + str(gw)][\"MID\"] + startingTeam[\"GW\" + str(gw)][\"player\" + str(player)][\"points\"]\n",
        "        elif startingTeam[\"GW\" + str(gw)][\"player\" + str(player)][\"position\"] == \"ST\":\n",
        "            totalPointsPerLine[\"GW\" + str(gw)][\"ST\"] = totalPointsPerLine[\"GW\" + str(gw)][\"ST\"] + startingTeam[\"GW\" + str(gw)][\"player\" + str(player)][\"points\"]\n",
        "    # Dict with points per line for the entire season       \n",
        "    totalPointsPerLineSeason[\"GK\"] = totalPointsPerLineSeason[\"GK\"] + totalPointsPerLine[\"GW\" + str(gw)][\"GK\"]\n",
        "    totalPointsPerLineSeason[\"DEF\"] = totalPointsPerLineSeason[\"DEF\"] + totalPointsPerLine[\"GW\" + str(gw)][\"DEF\"]\n",
        "    totalPointsPerLineSeason[\"MID\"] = totalPointsPerLineSeason[\"MID\"] + totalPointsPerLine[\"GW\" + str(gw)][\"MID\"]\n",
        "    totalPointsPerLineSeason[\"ST\"] = totalPointsPerLineSeason[\"ST\"] + totalPointsPerLine[\"GW\" + str(gw)][\"ST\"]\n",
        "    \n",
        "    print(\"GW\" + str(gw) + \" : Done.\")"
      ],
      "metadata": {
        "colab": {
          "base_uri": "https://localhost:8080/"
        },
        "id": "Qkoo-jZkIGtY",
        "outputId": "161bf636-c315-44a1-dd4a-6389642911bd"
      },
      "execution_count": 16,
      "outputs": [
        {
          "output_type": "stream",
          "name": "stdout",
          "text": [
            "GW1 : Done.\n",
            "GW2 : Done.\n",
            "GW3 : Done.\n",
            "GW4 : Done.\n",
            "GW5 : Done.\n",
            "GW6 : Done.\n",
            "GW7 : Done.\n",
            "GW8 : Done.\n",
            "GW9 : Done.\n",
            "GW10 : Done.\n"
          ]
        }
      ]
    },
    {
      "cell_type": "code",
      "source": [
        "#Player History\n",
        "import pandas as pd\n",
        "url = 'https://raw.githubusercontent.com/mpily/basic-ml-course/master/fplAnalytics-playerStautsData.csv'\n",
        "player_data = pd.read_csv(url)\n",
        "class playerStatus():\n",
        "  def __init__(self,minutes,total_points,bonus,points_per_game,selected_by_percent):\n",
        "    self.time_played = minutes\n",
        "    self.total_points = total_points\n",
        "    self.bonus_gained = bonus\n",
        "    self.avg_points_per_game = points_per_game\n",
        "    self.avg_selected_by_percent = selected_by_percent\n",
        "\n",
        "player_data_dict = {}\n",
        "\n",
        "for idx,row in player_data.iterrows():\n",
        "  player_data_dict[row['name']] = playerStatus(row['minutes'],row['total_points'],row['bonus'],\n",
        "                                               row['points_per_game'],row['selected_by_percent'])\n",
        "\n"
      ],
      "metadata": {
        "id": "ndt4D1IxemaA"
      },
      "execution_count": null,
      "outputs": []
    },
    {
      "cell_type": "markdown",
      "source": [
        "Elements contains a lot of player data. It can be viewed with\n",
        "\n",
        "\n",
        "```\n",
        "print(elements[0].keys())\n",
        "```\n",
        "For every week data is mostly going to be the same for each player but we will have to add points of previous week so as to create the difference\n"
      ],
      "metadata": {
        "id": "PQBxHjSHqRhk"
      }
    },
    {
      "cell_type": "code",
      "source": [
        "#####################Playing Against team######################################\n",
        "base = \"https://fixturedownload.com/feed/json/epl-2022\"\n",
        "page = urllib.request.urlopen(base)\n",
        "fixtures = json.load(page)\n",
        "def getOpponents(team, gameweek):\n",
        "    if team == 'Nott\\'m Forest':\n",
        "      team = 'Nottingham Forest'\n",
        "    for i in range(len(fixtures)): \n",
        "        if fixtures[i][\"RoundNumber\"] != gameweek:\n",
        "          continue\n",
        "        if team == fixtures[i][\"HomeTeam\"]:\n",
        "          return fixtures[i][\"AwayTeam\"]\n",
        "        elif team == fixtures[i][\"AwayTeam\"]:\n",
        "          return fixtures[i][\"HomeTeam\"]\n",
        "    print(team, gameweek)\n",
        "    assert False, \"Team doesn't exist or game week doesn't exist\""
      ],
      "metadata": {
        "id": "Ly1SWCsH2lPm"
      },
      "execution_count": 26,
      "outputs": []
    },
    {
      "cell_type": "code",
      "source": [
        "import numpy as np\n",
        "print(teams[0].keys())\n",
        "element_parameters = []\n",
        "bad_parameters     = ['code','id','first_name','second_name','photo','total_points']\n",
        "for param in elements[0].keys():\n",
        "  if param in bad_parameters:\n",
        "    continue\n",
        "  else :\n",
        "    element_parameters.append(param)\n",
        "num_of_gameweeks = 10\n",
        "inputs           = []\n",
        "results          = []\n",
        "for i in range(len(elements)):\n",
        "  for week in range(1,num_of_gameweeks+1):\n",
        "    next_input = []\n",
        "    for param in element_parameters:\n",
        "      next_input.append(elements[i][param])\n",
        "    next_input.append(getOpponents(teams[elements[i]['team']-1]['name'],week))\n",
        "    inputs.append(next_input)\n",
        "    results.append(elements[i]['total_points'])\n",
        "element_parameters.append(\"opponent_team\")\n",
        "inputs_numpy = np.array(inputs)\n",
        "results_numpy = np.array(results)\n",
        "results_numpy.shape = [len(results),1]\n",
        "print(results_numpy.shape)\n",
        "print(inputs_numpy.shape)"
      ],
      "metadata": {
        "id": "P7SDBMnnq_ah",
        "colab": {
          "base_uri": "https://localhost:8080/"
        },
        "outputId": "ca47522c-2b6d-458b-9441-5dd39fcd7cd2"
      },
      "execution_count": 44,
      "outputs": [
        {
          "output_type": "stream",
          "name": "stdout",
          "text": [
            "dict_keys(['code', 'draw', 'form', 'id', 'loss', 'name', 'played', 'points', 'position', 'short_name', 'strength', 'team_division', 'unavailable', 'win', 'strength_overall_home', 'strength_overall_away', 'strength_attack_home', 'strength_attack_away', 'strength_defence_home', 'strength_defence_away', 'pulse_id'])\n",
            "(6670, 1)\n",
            "(6670, 83)\n"
          ]
        }
      ]
    },
    {
      "cell_type": "code",
      "source": [
        "print(inputs_numpy, results_numpy)\n",
        "combined_inputs_outputs = np.append(inputs_numpy,results_numpy,axis=1)\n",
        "print(combined_inputs_outputs.shape)\n",
        "element_parameters.append(\"points\")\n",
        "df = pd.DataFrame(combined_inputs_outputs, columns = element_parameters)\n",
        "df.to_csv('data_fpl.csv')"
      ],
      "metadata": {
        "colab": {
          "base_uri": "https://localhost:8080/"
        },
        "id": "xqNP4e81DEal",
        "outputId": "41a7cef1-e53e-4249-c69d-04a36b6d50da"
      },
      "execution_count": 45,
      "outputs": [
        {
          "output_type": "stream",
          "name": "stdout",
          "text": [
            "[[100 100 0 ... 0.0 0.0 'Crystal Palace']\n",
            " [100 100 0 ... 0.0 0.0 'Leicester']\n",
            " [100 100 0 ... 0.0 0.0 'Bournemouth']\n",
            " ...\n",
            " [None None 0 ... 0.0 0.0 'Man City']\n",
            " [None None 0 ... 0.0 0.0 'West Ham']\n",
            " [None None 0 ... 0.0 0.0 'Chelsea']] [[2]\n",
            " [2]\n",
            " [2]\n",
            " ...\n",
            " [1]\n",
            " [1]\n",
            " [1]]\n",
            "(6670, 84)\n"
          ]
        }
      ]
    },
    {
      "cell_type": "code",
      "source": [
        "from google.colab import files\n",
        "files.download('data_fpl.csv')"
      ],
      "metadata": {
        "colab": {
          "base_uri": "https://localhost:8080/",
          "height": 17
        },
        "id": "BgmuFpMxH8oh",
        "outputId": "e2bba176-d50c-48fc-df3c-7d503912281b"
      },
      "execution_count": 47,
      "outputs": [
        {
          "output_type": "display_data",
          "data": {
            "text/plain": [
              "<IPython.core.display.Javascript object>"
            ],
            "application/javascript": [
              "\n",
              "    async function download(id, filename, size) {\n",
              "      if (!google.colab.kernel.accessAllowed) {\n",
              "        return;\n",
              "      }\n",
              "      const div = document.createElement('div');\n",
              "      const label = document.createElement('label');\n",
              "      label.textContent = `Downloading \"${filename}\": `;\n",
              "      div.appendChild(label);\n",
              "      const progress = document.createElement('progress');\n",
              "      progress.max = size;\n",
              "      div.appendChild(progress);\n",
              "      document.body.appendChild(div);\n",
              "\n",
              "      const buffers = [];\n",
              "      let downloaded = 0;\n",
              "\n",
              "      const channel = await google.colab.kernel.comms.open(id);\n",
              "      // Send a message to notify the kernel that we're ready.\n",
              "      channel.send({})\n",
              "\n",
              "      for await (const message of channel.messages) {\n",
              "        // Send a message to notify the kernel that we're ready.\n",
              "        channel.send({})\n",
              "        if (message.buffers) {\n",
              "          for (const buffer of message.buffers) {\n",
              "            buffers.push(buffer);\n",
              "            downloaded += buffer.byteLength;\n",
              "            progress.value = downloaded;\n",
              "          }\n",
              "        }\n",
              "      }\n",
              "      const blob = new Blob(buffers, {type: 'application/binary'});\n",
              "      const a = document.createElement('a');\n",
              "      a.href = window.URL.createObjectURL(blob);\n",
              "      a.download = filename;\n",
              "      div.appendChild(a);\n",
              "      a.click();\n",
              "      div.remove();\n",
              "    }\n",
              "  "
            ]
          },
          "metadata": {}
        },
        {
          "output_type": "display_data",
          "data": {
            "text/plain": [
              "<IPython.core.display.Javascript object>"
            ],
            "application/javascript": [
              "download(\"download_279156d1-a2a6-491e-b45b-bef789464200\", \"data_fpl.csv\", 2214092)"
            ]
          },
          "metadata": {}
        }
      ]
    }
  ]
}